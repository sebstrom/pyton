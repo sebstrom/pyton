{
 "cells": [
  {
   "cell_type": "markdown",
   "metadata": {},
   "source": [
    "# Kapitel 6"
   ]
  },
  {
   "cell_type": "markdown",
   "metadata": {},
   "source": [
    "1"
   ]
  },
  {
   "cell_type": "code",
   "execution_count": null,
   "metadata": {},
   "outputs": [],
   "source": [
    "# Int\n",
    "a = 10\n",
    "# List\n",
    "b = [5, 7, 3]\n",
    "# Set\n",
    "c = {2, 7, 1, 8, 2, 8}\n",
    "# Function  \n",
    "def my_fun(x):\n",
    "    return 2*2\n",
    "# Function\n",
    "d = my_fun"
   ]
  },
  {
   "cell_type": "code",
   "execution_count": null,
   "metadata": {},
   "outputs": [],
   "source": [
    "type(d)\n"
   ]
  },
  {
   "cell_type": "code",
   "execution_count": null,
   "metadata": {},
   "outputs": [],
   "source": [
    "# 2\n",
    "my_variable = (1, 1, 2, 3, 5)\n",
    "\n",
    "#a True\n",
    "isinstance(my_variable, list)\n",
    "\n",
    "# B False"
   ]
  },
  {
   "cell_type": "code",
   "execution_count": null,
   "metadata": {},
   "outputs": [],
   "source": [
    "# 3\n",
    "#a \n",
    "class FruitProduct:\n",
    "    \"\"\"A class representing fruit products in a grocery store\"\"\"\n",
    "# b\n",
    "    def __init__(self, price, quantity):\n",
    "        self.price = price\n",
    "        self.quantity = quantity\n",
    "#c        \n",
    "swedish_apples = FruitProduct(52,1)\n",
    "# d\n",
    "print(FruitProduct.__doc__)   \n",
    "# e\n",
    "print(\"Price:\", swedish_apples.price)\n",
    "print(\"Quantity\", swedish_apples.quantity)\n",
    "#f\n",
    "type(swedish_apples)\n",
    "# g\n",
    "isinstance(swedish_apples,FruitProduct) \n",
    "   \n",
    "    "
   ]
  },
  {
   "cell_type": "code",
   "execution_count": null,
   "metadata": {},
   "outputs": [],
   "source": [
    "# 4 \n",
    "class Square:\n",
    "    \n",
    "    def __init__(self, side_length):\n",
    "        self.side_length = side_length\n",
    "    \n",
    "    def area(self):\n",
    "        return self.side_length ** 2\n",
    "    \n",
    "    def perimeter(self):\n",
    "        return self.side_length * 4\n",
    "    \n",
    "my_square = Square(8)\n"
   ]
  },
  {
   "cell_type": "code",
   "execution_count": null,
   "metadata": {},
   "outputs": [],
   "source": [
    "print(my_square.area(), my_square.perimeter())"
   ]
  },
  {
   "cell_type": "code",
   "execution_count": null,
   "metadata": {},
   "outputs": [],
   "source": [
    "#5 \n",
    "# Vi skapar en class med metoderna summan, antal element och snittet. "
   ]
  },
  {
   "cell_type": "code",
   "execution_count": null,
   "metadata": {},
   "outputs": [],
   "source": [
    "class DescriptiveStatistics():\n",
    "    \"\"\" This class yadayadayada\"\"\"\n",
    "    def __init__(self):\n",
    "        self.data = []\n",
    "        \n",
    "    def add_data(self, data):\n",
    "        if isinstance(data, list):\n",
    "            self.data.extend(data)\n",
    "        else: \n",
    "            raise Exception('Only \"Lists\" are accepted as data')\n",
    "        \n",
    "    def calc_sum(self):\n",
    "        return sum(self.data)\n",
    "    \n",
    "    def calc_nbr_of_elements(self):\n",
    "        return len(self.data)\n",
    "    \n",
    "    def calc_mean(self):\n",
    "        return (self.calc_sum()) / (self.calc_nbr_of_elements())\n",
    "    \n",
    "    def print_summary(self):\n",
    "        print(\"Sum:\", self.calc_sum())\n",
    "        print(\"Number of elements:\", self.calc_nbr_of_elements())\n",
    "        print(\"Mean;\", self.calc_mean)"
   ]
  },
  {
   "cell_type": "code",
   "execution_count": null,
   "metadata": {},
   "outputs": [],
   "source": [
    "L = [1, 2, 3, 5, 1, 2, 10 , 5, 25, 5, 3, 6, 7 ]\n",
    "\n",
    "my_data = DescriptiveStatistics()\n",
    "\n",
    "my_data.add_data(L)"
   ]
  },
  {
   "cell_type": "code",
   "execution_count": null,
   "metadata": {},
   "outputs": [],
   "source": [
    "print(\"Sum:\", my_data.calc_sum())\n",
    "print(\"Number of elements:\", my_data.calc_nbr_of_elements())\n",
    "print(\"Mean:\", my_data.calc_mean())"
   ]
  },
  {
   "cell_type": "code",
   "execution_count": null,
   "metadata": {},
   "outputs": [],
   "source": [
    "my_data.print_summary()"
   ]
  },
  {
   "cell_type": "code",
   "execution_count": null,
   "metadata": {},
   "outputs": [],
   "source": [
    "# B Raises exception att vi enbart kan använda listor"
   ]
  },
  {
   "cell_type": "markdown",
   "metadata": {},
   "source": [
    "# 6 skapa bankkonto"
   ]
  },
  {
   "cell_type": "code",
   "execution_count": null,
   "metadata": {},
   "outputs": [],
   "source": [
    "class BankAccount:\n",
    "    def __init__(self, account_holder, balance) -> None:\n",
    "        self.account_holder = account_holder\n",
    "        self.balance = balance\n",
    "        \n",
    "    def deposit(self, amount):\n",
    "        if amount > 0:\n",
    "            self.balance += amount\n",
    "            print(\"You've deposited:\", amount, \"Your balance is:\", self.balance)\n",
    "        else:\n",
    "            print(\"Deposit more money\")\n",
    "        \n",
    "    def withdraw(self, amount):\n",
    "        if 0 < amount <= self.balance:\n",
    "            self.balance -= amount\n",
    "            print(\"You have withdrawn:\", amount, \"Your balance is:\", self.balance)\n",
    "        elif amount > self.balance:\n",
    "            print(\"Insufficient funds. Your balance is:\", self.balance)\n",
    "        "
   ]
  },
  {
   "cell_type": "code",
   "execution_count": null,
   "metadata": {},
   "outputs": [],
   "source": [
    "mitt_konto = BankAccount(\"Seb\", 1000)"
   ]
  },
  {
   "cell_type": "code",
   "execution_count": null,
   "metadata": {},
   "outputs": [],
   "source": [
    "mitt_konto.deposit(500)"
   ]
  },
  {
   "cell_type": "code",
   "execution_count": null,
   "metadata": {},
   "outputs": [],
   "source": [
    "mitt_konto.withdraw(2000)"
   ]
  },
  {
   "cell_type": "code",
   "execution_count": null,
   "metadata": {},
   "outputs": [],
   "source": [
    "mitt_konto.withdraw(1500)"
   ]
  },
  {
   "cell_type": "markdown",
   "metadata": {},
   "source": [
    "7 \n",
    "\n",
    "Vad är klasser?\n",
    "Man kan säga att klasser är en representation av ett objekt som har attribut som beskriver objektets status och har metoder som kan modifiera attributen. "
   ]
  },
  {
   "cell_type": "markdown",
   "metadata": {},
   "source": [
    "# Kapitel 7"
   ]
  },
  {
   "cell_type": "code",
   "execution_count": null,
   "metadata": {},
   "outputs": [],
   "source": [
    "import this"
   ]
  },
  {
   "cell_type": "markdown",
   "metadata": {},
   "source": [
    "a- Many projects have their own coding style guidelines. In the event of any conflicts, such project-specific guides take precedence for that project.\n",
    "\n",
    "b - English\n",
    "\n",
    "c - Function names should be lowercase, with words separated by underscores as necessary to improve readability.\n",
    "\n",
    "d - Class names should normally use the CapWords convention.\n",
    "\n",
    "e - Imports are always put at the top of the file, just after any module comments and docstrings, and before module globals and constants.\n",
    "\n",
    "f - In Python, single-quoted strings and double-quoted strings are the same. This PEP does not make a recommendation for this. Pick a rule and stick to it. \n",
    "\n",
    "g - Alternativ 1\n",
    "\n"
   ]
  },
  {
   "cell_type": "markdown",
   "metadata": {},
   "source": [
    "2\n",
    "a - explicit is better than implicit.\n",
    "Att det är bättre att va tydlig med vad man menar än att förvänta sig att folk förstår\n",
    "\n",
    "b - simple is better than complex\n",
    "Att enkla lösningar är oftast bättre,varför komplicera det?"
   ]
  },
  {
   "cell_type": "markdown",
   "metadata": {},
   "source": [
    "3. \n",
    "Det blir inte lättare om alla skriver kod på sitt eget sett. Det skulle snarare göra det mycket svårare. Speciellt om man ska arbeta tillsammans "
   ]
  },
  {
   "cell_type": "code",
   "execution_count": null,
   "metadata": {},
   "outputs": [],
   "source": []
  },
  {
   "cell_type": "markdown",
   "metadata": {},
   "source": [
    "# Kapitel 8"
   ]
  },
  {
   "cell_type": "markdown",
   "metadata": {},
   "source": [
    "1.\n",
    "a - Syntax error är fel som uppstår när python ej förstår koden\n",
    "\n",
    "b - Det kan vara ett stort program som tar lång tid att köra. Och stannar den vid första felet så körs programmet ej klart. Vilket gör att man går miste utav tid då man missar exceptions och möjligheten att rätta ej till dom. \n",
    "\n",
    "c - För att hitta felen och kunna rätta till dom "
   ]
  },
  {
   "cell_type": "markdown",
   "metadata": {},
   "source": [
    "2.\n",
    "a -  Koden är en string till int converter där vi testar att göra strängen till en int.\n",
    "vi förväntar oss ett ValueError \n",
    "annars returnerar programmet det som int\n",
    "\n",
    "\"314\" kommer fungera medans abc fungerar ej. "
   ]
  },
  {
   "cell_type": "markdown",
   "metadata": {},
   "source": [
    "b- else-klausulen exekveras om ingen exception uppstår och det är generellt \n",
    "bättre att använda else än att testa fler exception i try-klausulen"
   ]
  },
  {
   "cell_type": "code",
   "execution_count": null,
   "metadata": {},
   "outputs": [],
   "source": [
    "def try_this(a, b):\n",
    "    try:\n",
    "        if isinstance(a, (int, float)) and isinstance(b, (int, float)):\n",
    "            result = a * b\n",
    "            return result\n",
    "        else:\n",
    "            raise TypeError(\"Both arguments must be int or floar\")\n",
    "    except TypeError as e:\n",
    "        print(f\"Error: {e}\")\n",
    "\n",
    "print(try_this(5, 10)) \n",
    "print(try_this(\"fem\", \"10\"))"
   ]
  },
  {
   "cell_type": "code",
   "execution_count": null,
   "metadata": {},
   "outputs": [],
   "source": [
    "def add_two_small_numbers(a, b):\n",
    "    try:\n",
    "        if a > 100 or b > 100:\n",
    "            raise Exception(\"both numbers must be smaller than or equal to 100\")\n",
    "        else:\n",
    "            return a + b\n",
    "    except Exception as e:\n",
    "        print(f\"Error: {e}\")\n",
    "\n",
    "print(add_two_small_numbers(10, 20))"
   ]
  },
  {
   "cell_type": "code",
   "execution_count": null,
   "metadata": {},
   "outputs": [],
   "source": [
    "\"\"\"\n",
    "5\n",
    "Del ett och två kollar vilket exception som blir raised och skriver ut det. \n",
    "I den första kan vi förvänta oss ett TypeError och i den andra ZeroDevision. \n",
    "\n",
    "Tredje delen så definerar hon en funktion där hon förväntar sig dessa 2 fel\n",
    "och testar sedan så att allt fungerar som det ska\n",
    "\n",
    "\"\"\""
   ]
  },
  {
   "cell_type": "markdown",
   "metadata": {},
   "source": [
    "Kapitel 9"
   ]
  },
  {
   "cell_type": "code",
   "execution_count": null,
   "metadata": {},
   "outputs": [],
   "source": [
    "#1 För att kunna säkerställa att koden fungerar som den ska"
   ]
  },
  {
   "cell_type": "code",
   "execution_count": null,
   "metadata": {},
   "outputs": [],
   "source": [
    "#2 \n",
    "def multiply_two_numbers(a, b):\n",
    "    \"\"\"Return the product of a and b.\n",
    "    >>> multiply_two_numbers(3,2)\n",
    "    6\n",
    "    >>> multiply_two_numbers(1,3)\n",
    "    4\n",
    "    \"\"\"\n",
    "    return a*b\n",
    "\n"
   ]
  },
  {
   "cell_type": "code",
   "execution_count": null,
   "metadata": {},
   "outputs": [],
   "source": [
    "import doctest\n",
    "doctest.testmod()"
   ]
  },
  {
   "cell_type": "code",
   "execution_count": null,
   "metadata": {},
   "outputs": [],
   "source": [
    "def plussa_tal(a: int, b: int) -> int:\n",
    "    \"\"\"Return the sum of a and b\n",
    "    >>> plussa_tal(\"1\", 3)\n",
    "    4\n",
    "    >>> plussa_tal(\"41\",8)\n",
    "    42\n",
    "    \"\"\"\n",
    "    return int(a) + int(b)\n",
    "\n"
   ]
  },
  {
   "cell_type": "code",
   "execution_count": null,
   "metadata": {},
   "outputs": [],
   "source": [
    "doctest.testmod()"
   ]
  },
  {
   "cell_type": "markdown",
   "metadata": {},
   "source": [
    "# Kapitel 10"
   ]
  },
  {
   "cell_type": "code",
   "execution_count": null,
   "metadata": {},
   "outputs": [],
   "source": [
    "__name__"
   ]
  },
  {
   "cell_type": "code",
   "execution_count": 68,
   "metadata": {},
   "outputs": [],
   "source": [
    "# Importera min_modul med funktionerna change och pluss\n",
    "from min_modul import change\n",
    "from min_modul import pluss"
   ]
  },
  {
   "cell_type": "code",
   "execution_count": 69,
   "metadata": {},
   "outputs": [
    {
     "ename": "UnboundLocalError",
     "evalue": "local variable 'result' referenced before assignment",
     "output_type": "error",
     "traceback": [
      "\u001b[1;31m---------------------------------------------------------------------------\u001b[0m",
      "\u001b[1;31mUnboundLocalError\u001b[0m                         Traceback (most recent call last)",
      "Cell \u001b[1;32mIn[69], line 2\u001b[0m\n\u001b[0;32m      1\u001b[0m text \u001b[38;5;241m=\u001b[39m \u001b[38;5;124m\"\u001b[39m\u001b[38;5;124mHejsan hoppsan\u001b[39m\u001b[38;5;124m\"\u001b[39m\n\u001b[1;32m----> 2\u001b[0m skiftad_text \u001b[38;5;241m=\u001b[39m \u001b[43mchange\u001b[49m\u001b[43m(\u001b[49m\u001b[43mtext\u001b[49m\u001b[43m)\u001b[49m\n\u001b[0;32m      4\u001b[0m \u001b[38;5;28mprint\u001b[39m(\u001b[38;5;124mf\u001b[39m\u001b[38;5;124m\"\u001b[39m\u001b[38;5;124mOriginal text: \u001b[39m\u001b[38;5;132;01m{\u001b[39;00mtext\u001b[38;5;132;01m}\u001b[39;00m\u001b[38;5;124m\"\u001b[39m)\n\u001b[0;32m      5\u001b[0m \u001b[38;5;28mprint\u001b[39m(\u001b[38;5;124mf\u001b[39m\u001b[38;5;124m\"\u001b[39m\u001b[38;5;124mSkiftad text: \u001b[39m\u001b[38;5;132;01m{\u001b[39;00mskiftad_text\u001b[38;5;132;01m}\u001b[39;00m\u001b[38;5;124m\"\u001b[39m)\n",
      "File \u001b[1;32mc:\\Users\\sebbe\\Desktop\\Skolsaker\\Python från grunden\\min_modul.py:12\u001b[0m, in \u001b[0;36mchange\u001b[1;34m(a)\u001b[0m\n\u001b[0;32m     10\u001b[0m \u001b[38;5;28;01mfor\u001b[39;00m i \u001b[38;5;129;01min\u001b[39;00m a:\n\u001b[0;32m     11\u001b[0m     changed \u001b[38;5;241m=\u001b[39m \u001b[38;5;28mchr\u001b[39m(\u001b[38;5;28mord\u001b[39m(i)\u001b[38;5;241m+\u001b[39m\u001b[38;5;241m30\u001b[39m)\n\u001b[1;32m---> 12\u001b[0m     result \u001b[38;5;241m+\u001b[39m\u001b[38;5;241m=\u001b[39m changed\n\u001b[0;32m     13\u001b[0m \u001b[38;5;28;01mreturn\u001b[39;00m result\n",
      "\u001b[1;31mUnboundLocalError\u001b[0m: local variable 'result' referenced before assignment"
     ]
    }
   ],
   "source": [
    "text = \"Hejsan hoppsan\"\n",
    "skiftad_text = change(text)\n",
    "\n",
    "print(f\"Original text: {text}\")\n",
    "print(f\"Skiftad text: {skiftad_text}\")"
   ]
  },
  {
   "cell_type": "code",
   "execution_count": 67,
   "metadata": {},
   "outputs": [
    {
     "name": "stdout",
     "output_type": "stream",
     "text": [
      "5\n"
     ]
    }
   ],
   "source": [
    "print(pluss(2,3))"
   ]
  },
  {
   "cell_type": "code",
   "execution_count": null,
   "metadata": {},
   "outputs": [],
   "source": [
    "help(change)"
   ]
  },
  {
   "cell_type": "markdown",
   "metadata": {},
   "source": [
    "#Kapitel 11"
   ]
  },
  {
   "cell_type": "markdown",
   "metadata": {},
   "source": [
    "1. En stor del varför loggning är bra är just för felsökning och problemlösning. Att enkelt kunna samla och hitta felen, vart, när, hur och varför dom inträffade.\n",
    "\n",
    "Kan även vara utav säkerhetsskäl, som det nämns i boken kunna se vem som har loggat in eller hämtat ut viss information."
   ]
  },
  {
   "cell_type": "markdown",
   "metadata": {},
   "source": [
    "2. Det som menas med olika nivår för logg-meddelanden är hur allvarligt det är.\n",
    "Det hade lika gärna kunnat vara en sifferskala där 1 är lägst och 5 högst."
   ]
  },
  {
   "cell_type": "markdown",
   "metadata": {},
   "source": []
  },
  {
   "cell_type": "code",
   "execution_count": 110,
   "metadata": {},
   "outputs": [
    {
     "name": "stderr",
     "output_type": "stream",
     "text": [
      "DEBUG:root:Hej från Jupyter Notebook\n",
      "[2024-09-09 14:07][DEBUG] Hej från Jupyter Notebook\n"
     ]
    }
   ],
   "source": [
    "import logging\n",
    "\n",
    "# Skapa en logger\n",
    "logger = logging.getLogger()\n",
    "logger.setLevel(logging.DEBUG)  # Sätt loggnivån till DEBUG\n",
    "\n",
    "# Skapa en handler för att logga till konsol (notebook cellens output)\n",
    "console_handler = logging.StreamHandler()\n",
    "console_handler.setLevel(logging.DEBUG)  # Sätt loggnivån för handlern till DEBUG\n",
    "\n",
    "# Definiera format för loggarna\n",
    "formatter = logging.Formatter('[%(asctime)s][%(levelname)s] %(message)s', '%Y-%m-%d %H:%M')\n",
    "console_handler.setFormatter(formatter)\n",
    "\n",
    "# Lägg till handler till loggern\n",
    "logger.addHandler(console_handler)\n",
    "\n",
    "# Logga ett meddelande\n",
    "logger.debug(\"Hej från Jupyter Notebook\")\n"
   ]
  },
  {
   "cell_type": "code",
   "execution_count": 98,
   "metadata": {},
   "outputs": [],
   "source": [
    "import logging\n",
    "logger = logging.getLogger()"
   ]
  },
  {
   "cell_type": "code",
   "execution_count": 112,
   "metadata": {},
   "outputs": [
    {
     "name": "stderr",
     "output_type": "stream",
     "text": [
      "DEBUG:root:Hej Linus, hur komplicerat vill du egentligen ha detta?\n",
      "[2024-09-09 14:09][DEBUG] Hej Linus, hur komplicerat vill du egentligen ha detta?\n"
     ]
    }
   ],
   "source": [
    "logging.basicConfig(\n",
    "    format= \"[%(asctime)s][%(levelname)s] %(message)s\",\n",
    "    level=logging.DEBUG,\n",
    "    datefmt= \"%Y-%m-%d %H:%M\",\n",
    ")\n",
    "\n",
    "logger.debug(\"Hej Linus, hur komplicerat vill du egentligen ha detta?\")"
   ]
  },
  {
   "cell_type": "code",
   "execution_count": null,
   "metadata": {},
   "outputs": [],
   "source": []
  },
  {
   "cell_type": "markdown",
   "metadata": {},
   "source": [
    "# FRÅGA 1"
   ]
  },
  {
   "cell_type": "markdown",
   "metadata": {},
   "source": [
    "Importerar nödvändiga bibliotek.\n",
    "Läser in csv filen.\n",
    "\n",
    "Skapar en klass VehicleViewerApp, så mest troligt en app för att kolla på fordon.\n",
    "Vi definierar sedan en init-metod och sparar en kopia av filtrerad df. \n",
    "\n",
    "Vi lägger in en fönsterikon, ändrar stil, lägger till filter, etiketter och bygger ett main frame.  \n",
    "\n",
    "Sedan skapas etiketter och filtrering på kolumnerna och visar resultatet som ett table. \n",
    "Det läggs även till scrollbars, rubriker och vi resize:ar fönstret för att passa vår content och visar all data.\n",
    "\n",
    "Ny metod skapas för att försöka lägga till en ikon på fönstret och vi förväntar oss ett TclError\n",
    "\n",
    "Ännu en metod görs, denna ska justera kolumnbredden. Sedan en ny metod som visar resultat.\n",
    "\n",
    "\n",
    "Metod som lägger till filtret. Om filtret är tomt så visas hela dataframen.  \n",
    "\n",
    "Sedan en funktion för att spara till csv fil där vi får välja filnamn och plats. \n",
    "\n",
    "Sista biten visar programmet. "
   ]
  },
  {
   "cell_type": "markdown",
   "metadata": {},
   "source": []
  }
 ],
 "metadata": {
  "kernelspec": {
   "display_name": "pystat",
   "language": "python",
   "name": "python3"
  },
  "language_info": {
   "codemirror_mode": {
    "name": "ipython",
    "version": 3
   },
   "file_extension": ".py",
   "mimetype": "text/x-python",
   "name": "python",
   "nbconvert_exporter": "python",
   "pygments_lexer": "ipython3",
   "version": "3.9.18"
  }
 },
 "nbformat": 4,
 "nbformat_minor": 2
}
